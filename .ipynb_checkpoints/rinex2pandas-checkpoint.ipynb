{
 "cells": [
  {
   "cell_type": "code",
   "execution_count": 1,
   "metadata": {},
   "outputs": [],
   "source": [
    "import pandas as pd\n",
    "import georinex as gr"
   ]
  },
  {
   "cell_type": "code",
   "execution_count": 2,
   "metadata": {},
   "outputs": [
    {
     "name": "stderr",
     "output_type": "stream",
     "text": [
      "C:\\tools\\Anaconda3\\envs\\survey\\lib\\site-packages\\numpy\\core\\fromnumeric.py:3419: RuntimeWarning: Mean of empty slice.\n",
      "  return _methods._mean(a, axis=axis, dtype=dtype,\n",
      "C:\\tools\\Anaconda3\\envs\\survey\\lib\\site-packages\\numpy\\core\\_methods.py:188: RuntimeWarning: invalid value encountered in double_scalars\n",
      "  ret = ret.dtype.type(ret / rcount)\n",
      "C:\\tools\\Anaconda3\\envs\\survey\\lib\\site-packages\\numpy\\core\\fromnumeric.py:3419: RuntimeWarning: Mean of empty slice.\n",
      "  return _methods._mean(a, axis=axis, dtype=dtype,\n",
      "C:\\tools\\Anaconda3\\envs\\survey\\lib\\site-packages\\numpy\\core\\_methods.py:188: RuntimeWarning: invalid value encountered in double_scalars\n",
      "  ret = ret.dtype.type(ret / rcount)\n",
      "C:\\tools\\Anaconda3\\envs\\survey\\lib\\site-packages\\numpy\\core\\fromnumeric.py:3419: RuntimeWarning: Mean of empty slice.\n",
      "  return _methods._mean(a, axis=axis, dtype=dtype,\n",
      "C:\\tools\\Anaconda3\\envs\\survey\\lib\\site-packages\\numpy\\core\\_methods.py:188: RuntimeWarning: invalid value encountered in double_scalars\n",
      "  ret = ret.dtype.type(ret / rcount)\n",
      "C:\\tools\\Anaconda3\\envs\\survey\\lib\\site-packages\\numpy\\core\\fromnumeric.py:3419: RuntimeWarning: Mean of empty slice.\n",
      "  return _methods._mean(a, axis=axis, dtype=dtype,\n",
      "C:\\tools\\Anaconda3\\envs\\survey\\lib\\site-packages\\numpy\\core\\_methods.py:188: RuntimeWarning: invalid value encountered in double_scalars\n",
      "  ret = ret.dtype.type(ret / rcount)\n",
      "C:\\tools\\Anaconda3\\envs\\survey\\lib\\site-packages\\numpy\\core\\fromnumeric.py:3419: RuntimeWarning: Mean of empty slice.\n",
      "  return _methods._mean(a, axis=axis, dtype=dtype,\n",
      "C:\\tools\\Anaconda3\\envs\\survey\\lib\\site-packages\\numpy\\core\\_methods.py:188: RuntimeWarning: invalid value encountered in double_scalars\n",
      "  ret = ret.dtype.type(ret / rcount)\n"
     ]
    }
   ],
   "source": [
    "nav_file = '../2021.09.17_jamming/parsed-rinex/COM37_210917_110602_jamming.nav'\n",
    "obs_file = '../2021.09.17_jamming/parsed-rinex/COM37_210917_110602_jamming.obs'\n",
    "\n",
    "obs = gr.load(obs_file)\n",
    "nav = gr.load(nav_file)\n",
    "\n",
    "hdr_obs = gr.rinexheader(obs_file)\n",
    "hdr_nav = gr.rinexheader(nav_file)\n"
   ]
  },
  {
   "cell_type": "code",
   "execution_count": 3,
   "metadata": {},
   "outputs": [
    {
     "data": {
      "text/html": [
       "<div>\n",
       "<style scoped>\n",
       "    .dataframe tbody tr th:only-of-type {\n",
       "        vertical-align: middle;\n",
       "    }\n",
       "\n",
       "    .dataframe tbody tr th {\n",
       "        vertical-align: top;\n",
       "    }\n",
       "\n",
       "    .dataframe thead th {\n",
       "        text-align: right;\n",
       "    }\n",
       "</style>\n",
       "<table border=\"1\" class=\"dataframe\">\n",
       "  <thead>\n",
       "    <tr style=\"text-align: right;\">\n",
       "      <th></th>\n",
       "      <th></th>\n",
       "      <th>C1</th>\n",
       "      <th>L1</th>\n",
       "      <th>D1</th>\n",
       "      <th>S1</th>\n",
       "      <th>C2</th>\n",
       "      <th>L2</th>\n",
       "      <th>D2</th>\n",
       "      <th>S2</th>\n",
       "    </tr>\n",
       "    <tr>\n",
       "      <th>time</th>\n",
       "      <th>sv</th>\n",
       "      <th></th>\n",
       "      <th></th>\n",
       "      <th></th>\n",
       "      <th></th>\n",
       "      <th></th>\n",
       "      <th></th>\n",
       "      <th></th>\n",
       "      <th></th>\n",
       "    </tr>\n",
       "  </thead>\n",
       "  <tbody>\n",
       "    <tr>\n",
       "      <th rowspan=\"5\" valign=\"top\">2021-09-17 11:06:31.004000</th>\n",
       "      <th>G01</th>\n",
       "      <td>2.169350e+07</td>\n",
       "      <td>8.883133e+07</td>\n",
       "      <td>-1983.948</td>\n",
       "      <td>31.0</td>\n",
       "      <td>0.0</td>\n",
       "      <td>0.0</td>\n",
       "      <td>0.0</td>\n",
       "      <td>0.0</td>\n",
       "    </tr>\n",
       "    <tr>\n",
       "      <th>G03</th>\n",
       "      <td>2.148512e+07</td>\n",
       "      <td>8.797797e+07</td>\n",
       "      <td>-310.455</td>\n",
       "      <td>32.0</td>\n",
       "      <td>0.0</td>\n",
       "      <td>0.0</td>\n",
       "      <td>0.0</td>\n",
       "      <td>0.0</td>\n",
       "    </tr>\n",
       "    <tr>\n",
       "      <th>G04</th>\n",
       "      <td>2.388655e+07</td>\n",
       "      <td>9.781141e+07</td>\n",
       "      <td>2006.044</td>\n",
       "      <td>38.0</td>\n",
       "      <td>0.0</td>\n",
       "      <td>0.0</td>\n",
       "      <td>0.0</td>\n",
       "      <td>0.0</td>\n",
       "    </tr>\n",
       "    <tr>\n",
       "      <th>G09</th>\n",
       "      <td>2.682181e+07</td>\n",
       "      <td>0.000000e+00</td>\n",
       "      <td>2447.968</td>\n",
       "      <td>21.0</td>\n",
       "      <td>0.0</td>\n",
       "      <td>0.0</td>\n",
       "      <td>0.0</td>\n",
       "      <td>0.0</td>\n",
       "    </tr>\n",
       "    <tr>\n",
       "      <th>G17</th>\n",
       "      <td>2.294095e+07</td>\n",
       "      <td>0.000000e+00</td>\n",
       "      <td>-328.289</td>\n",
       "      <td>22.0</td>\n",
       "      <td>0.0</td>\n",
       "      <td>0.0</td>\n",
       "      <td>0.0</td>\n",
       "      <td>0.0</td>\n",
       "    </tr>\n",
       "    <tr>\n",
       "      <th>...</th>\n",
       "      <th>...</th>\n",
       "      <td>...</td>\n",
       "      <td>...</td>\n",
       "      <td>...</td>\n",
       "      <td>...</td>\n",
       "      <td>...</td>\n",
       "      <td>...</td>\n",
       "      <td>...</td>\n",
       "      <td>...</td>\n",
       "    </tr>\n",
       "    <tr>\n",
       "      <th rowspan=\"5\" valign=\"top\">2021-09-17 11:32:19.004999</th>\n",
       "      <th>G19</th>\n",
       "      <td>2.333726e+07</td>\n",
       "      <td>1.226381e+08</td>\n",
       "      <td>258.618</td>\n",
       "      <td>34.0</td>\n",
       "      <td>0.0</td>\n",
       "      <td>0.0</td>\n",
       "      <td>0.0</td>\n",
       "      <td>0.0</td>\n",
       "    </tr>\n",
       "    <tr>\n",
       "      <th>G21</th>\n",
       "      <td>2.447169e+07</td>\n",
       "      <td>1.285996e+08</td>\n",
       "      <td>-3493.611</td>\n",
       "      <td>42.0</td>\n",
       "      <td>0.0</td>\n",
       "      <td>0.0</td>\n",
       "      <td>0.0</td>\n",
       "      <td>0.0</td>\n",
       "    </tr>\n",
       "    <tr>\n",
       "      <th>G22</th>\n",
       "      <td>2.258999e+07</td>\n",
       "      <td>1.187112e+08</td>\n",
       "      <td>-2389.461</td>\n",
       "      <td>27.0</td>\n",
       "      <td>0.0</td>\n",
       "      <td>0.0</td>\n",
       "      <td>0.0</td>\n",
       "      <td>0.0</td>\n",
       "    </tr>\n",
       "    <tr>\n",
       "      <th>G31</th>\n",
       "      <td>2.466255e+07</td>\n",
       "      <td>1.296026e+08</td>\n",
       "      <td>-147.423</td>\n",
       "      <td>28.0</td>\n",
       "      <td>0.0</td>\n",
       "      <td>0.0</td>\n",
       "      <td>0.0</td>\n",
       "      <td>0.0</td>\n",
       "    </tr>\n",
       "    <tr>\n",
       "      <th>G32</th>\n",
       "      <td>0.000000e+00</td>\n",
       "      <td>0.000000e+00</td>\n",
       "      <td>0.000</td>\n",
       "      <td>0.0</td>\n",
       "      <td>0.0</td>\n",
       "      <td>0.0</td>\n",
       "      <td>0.0</td>\n",
       "      <td>0.0</td>\n",
       "    </tr>\n",
       "  </tbody>\n",
       "</table>\n",
       "<p>12350 rows × 8 columns</p>\n",
       "</div>"
      ],
      "text/plain": [
       "                                          C1            L1        D1    S1  \\\n",
       "time                       sv                                                \n",
       "2021-09-17 11:06:31.004000 G01  2.169350e+07  8.883133e+07 -1983.948  31.0   \n",
       "                           G03  2.148512e+07  8.797797e+07  -310.455  32.0   \n",
       "                           G04  2.388655e+07  9.781141e+07  2006.044  38.0   \n",
       "                           G09  2.682181e+07  0.000000e+00  2447.968  21.0   \n",
       "                           G17  2.294095e+07  0.000000e+00  -328.289  22.0   \n",
       "...                                      ...           ...       ...   ...   \n",
       "2021-09-17 11:32:19.004999 G19  2.333726e+07  1.226381e+08   258.618  34.0   \n",
       "                           G21  2.447169e+07  1.285996e+08 -3493.611  42.0   \n",
       "                           G22  2.258999e+07  1.187112e+08 -2389.461  27.0   \n",
       "                           G31  2.466255e+07  1.296026e+08  -147.423  28.0   \n",
       "                           G32  0.000000e+00  0.000000e+00     0.000   0.0   \n",
       "\n",
       "                                 C2   L2   D2   S2  \n",
       "time                       sv                       \n",
       "2021-09-17 11:06:31.004000 G01  0.0  0.0  0.0  0.0  \n",
       "                           G03  0.0  0.0  0.0  0.0  \n",
       "                           G04  0.0  0.0  0.0  0.0  \n",
       "                           G09  0.0  0.0  0.0  0.0  \n",
       "                           G17  0.0  0.0  0.0  0.0  \n",
       "...                             ...  ...  ...  ...  \n",
       "2021-09-17 11:32:19.004999 G19  0.0  0.0  0.0  0.0  \n",
       "                           G21  0.0  0.0  0.0  0.0  \n",
       "                           G22  0.0  0.0  0.0  0.0  \n",
       "                           G31  0.0  0.0  0.0  0.0  \n",
       "                           G32  0.0  0.0  0.0  0.0  \n",
       "\n",
       "[12350 rows x 8 columns]"
      ]
     },
     "execution_count": 3,
     "metadata": {},
     "output_type": "execute_result"
    }
   ],
   "source": [
    "obs_df = obs.to_dataframe()\n",
    "obs_df.fillna(value = 0, axis = 1)\n",
    "\n",
    "#Replace row nans with 0 along rows, drop nan columns"
   ]
  },
  {
   "cell_type": "code",
   "execution_count": 4,
   "metadata": {},
   "outputs": [],
   "source": [
    "obs_df = obs_df.sort_index()"
   ]
  },
  {
   "cell_type": "code",
   "execution_count": 5,
   "metadata": {},
   "outputs": [],
   "source": [
    "import numpy as np\n",
    "from sklearn.model_selection import train_test_split\n",
    "\n",
    "from sklearn.metrics import precision_recall_fscore_support, balanced_accuracy_score\n",
    "from time import process_time_ns as process_time"
   ]
  },
  {
   "cell_type": "code",
   "execution_count": 6,
   "metadata": {},
   "outputs": [],
   "source": [
    "# 10 mins of regular, 5 of jamming, 10 of regular\n",
    "\n",
    "labels = np.zeros(len(obs_df))\n",
    "tmp = int(12350/5)\n",
    "tmp2 = tmp * 2\n",
    "labels[tmp2: tmp2+tmp] = np.ones(tmp)\n",
    "assert set(labels) == set([0,1])"
   ]
  },
  {
   "cell_type": "code",
   "execution_count": 7,
   "metadata": {},
   "outputs": [],
   "source": [
    "# obs_df.loc['G01'].dropna(0, 'all') #NO IDEA"
   ]
  },
  {
   "cell_type": "markdown",
   "metadata": {},
   "source": [
    "### Train/Test Split"
   ]
  },
  {
   "cell_type": "code",
   "execution_count": 8,
   "metadata": {},
   "outputs": [],
   "source": [
    "\n",
    "obs_df = np.nan_to_num(obs_df)\n",
    "x_train, x_test, y_train, y_test = train_test_split(obs_df, labels, test_size = .1)"
   ]
  },
  {
   "cell_type": "markdown",
   "metadata": {},
   "source": [
    "### Data Pre-Processing"
   ]
  },
  {
   "cell_type": "code",
   "execution_count": 9,
   "metadata": {},
   "outputs": [],
   "source": [
    "#TODO"
   ]
  },
  {
   "cell_type": "markdown",
   "metadata": {},
   "source": [
    "### Supervised Models"
   ]
  },
  {
   "cell_type": "code",
   "execution_count": 10,
   "metadata": {},
   "outputs": [],
   "source": [
    "from sklearn.linear_model import SGDClassifier\n",
    "from sklearn import tree, svm, neighbors\n",
    "from sklearn.naive_bayes import GaussianNB, BernoulliNB, CategoricalNB\n",
    "from sklearn.gaussian_process import GaussianProcessClassifier\n",
    "from sklearn.ensemble import AdaBoostClassifier, GradientBoostingClassifier\n",
    "from sklearn.linear_model import LogisticRegression\n",
    "\n",
    "model1 = tree.DecisionTreeClassifier()\n",
    "model2 = svm.SVC()\n",
    "model3 = SGDClassifier(loss=\"hinge\", penalty=\"l2\", max_iter=100)\n",
    "model4 = neighbors.KNeighborsClassifier(n_neighbors = 2)\n",
    "model5 = GaussianNB()\n",
    "model6 = BernoulliNB()\n",
    "model7 = AdaBoostClassifier()\n",
    "model8 = GaussianProcessClassifier()\n",
    "model9 = GradientBoostingClassifier()\n",
    "model10 = LogisticRegression()\n",
    "\n",
    "sup_model_names = [\"Decision Tree\", \"SVC\", \"SGD\", \"Kneighbors\", \"Gaussian\", \"Bernoulli\", \"Adaboost\", \"Gaussian Process\", \"Gradient Boosting\", \"Logistic Regression\"]\n",
    "sup_models = [model1, model2, model3, model4, model5, model6, model6, model8, model9, model10]\n",
    "\n"
   ]
  },
  {
   "cell_type": "code",
   "execution_count": 11,
   "metadata": {},
   "outputs": [],
   "source": [
    "def run_experiment(x_train, x_test, y_train, y_test, model):\n",
    "    start = process_time()\n",
    "    model.fit(x_train, y_train)\n",
    "    end = process_time()\n",
    "    fit = end - start\n",
    "    start = process_time()\n",
    "    preds = model.predict(x_test)\n",
    "    end = process_time()\n",
    "    time = end - start\n",
    "    res   = balanced_accuracy_score(y_test, preds)\n",
    "    print(\"Accuracy: \", res, \"Fit time:\", fit, \"Predict Time\", time)\n",
    "    return (res, fit, time)\n",
    "\n"
   ]
  },
  {
   "cell_type": "code",
   "execution_count": 12,
   "metadata": {},
   "outputs": [],
   "source": [
    "def run_unsupervised_experiment(x_train, x_test, y_test, model):\n",
    "#     start = process_time()\n",
    "#     model.fit(x_train)\n",
    "#     end = process_time()\n",
    "#     fit = end - start\n",
    "    start = process_time()\n",
    "    preds = model.fit_predict(x_test)\n",
    "    end = process_time()\n",
    "    time = end - start\n",
    "    res   = balanced_accuracy_score(y_test, preds)\n",
    "    print(\"Accuracy: \", res, \"Fit and Predict Time\", time)\n",
    "    return (res, time)\n",
    "\n"
   ]
  },
  {
   "cell_type": "code",
   "execution_count": 13,
   "metadata": {},
   "outputs": [],
   "source": [
    "# from sklearn.decomposition import PCA, KernelPCA\n",
    "# from sklearn.cluster import AgglomerativeClustering, SpectralClustering, DBSCAN, OPTICS\n",
    "# from sklearn.neighbors import KNeighborsClassifier, BallTree, LocalOutlierFactor, RadiusNeighborsClassifier\n",
    "\n",
    "# # modela = KernelPCA()\n",
    "# # modelb = PCA()\n",
    "# modelc = AgglomerativeClustering()\n",
    "# modeld = SpectralClustering()\n",
    "# modele = OPTICS()\n",
    "# modelf = KNeighborsClassifier()\n",
    "# # modelg = BallTree(x_train, leaf_size = 2)\n",
    "# modelh = LocalOutlierFactor()\n",
    "# modeli = RadiusNeighborsClassifier()\n",
    "# modelj = DBSCAN()\n",
    "\n",
    "# ress = []\n",
    "# fits = []\n",
    "# preds = []\n",
    "\n",
    "# models = [modelc, modeld, modele, modelf, modelh, modelj]\n",
    "# for model in models:\n",
    "#     try:\n",
    "#         res, pred_time = run_unsupervised_experiment(x_train, x_test, y_test, model)\n",
    "#         ress.append(res)\n",
    "#         fits.append(pred_time)\n",
    "#     except Exception as e:\n",
    "#         e = str(e)\n",
    "#         if \"object has no attribute 'fit_predict'\" in e:\n",
    "#             res, fit, pred = run_experiment(x_train, x_test, y_train, y_test, model)\n",
    "#             ress.append(res)\n",
    "#             fits.append(pred_time)\n",
    "#             preds.append(pred)\n",
    "#         else:\n",
    "#             print(e)\n",
    "    "
   ]
  },
  {
   "cell_type": "markdown",
   "metadata": {},
   "source": [
    "### Data Pre-Processing"
   ]
  },
  {
   "cell_type": "code",
   "execution_count": 14,
   "metadata": {},
   "outputs": [],
   "source": [
    "from sklearn.preprocessing import StandardScaler, Normalizer, PowerTransformer, RobustScaler\n",
    "from sklearn.pipeline import Pipeline\n",
    "pipes = []\n",
    "pipes2 = []\n",
    "pipes3 = []\n",
    "pipes4 = []\n",
    "i = 0\n",
    "\n",
    "pre1 =  StandardScaler()\n",
    "pre2 =  Normalizer()\n",
    "pre3 = PowerTransformer()\n",
    "pre4 = RobustScaler()\n",
    "\n",
    "pre_names = ['Standard', 'Normalize', 'Yeo-Johnson', 'Robust Scaling']\n",
    "pres = [pre1, pre2, pre3, pre4]\n",
    "\n",
    "# for model in sup_models:\n",
    "#     print(\"Model:\", sup_model_names[i])\n",
    "#     i += 1 \n",
    "#     print(\"Raw Data: \")\n",
    "#     run_experiment(x_train, x_test, y_train, y_test, model)\n",
    "#     pipe = Pipeline([('scaler', pre1), ('model', model)])\n",
    "#     pipes.append(pipe)\n",
    "#     print(\"Standard Scaling: \")\n",
    "#     run_experiment(x_train, x_test, y_train, y_test, pipe)\n",
    "#     print(\"Normalization: \")\n",
    "#     pipe2 = Pipeline([('normalize',pre2),('model', model)])\n",
    "#     pipes2.append(pipe2)\n",
    "#     run_experiment(x_train, x_test, y_train, y_test, pipe2)\n",
    "#     print(\"Yeo-Johnson: \")\n",
    "#     pipe3 = Pipeline([('normalize', pre3),('model', model)])\n",
    "#     pipes3.append(pipe3)\n",
    "#     run_experiment(x_train, x_test, y_train, y_test, pipe3)\n",
    "#     print(\"Robust Scaling: \")\n",
    "#     pipe4 = Pipeline([('normalize', pre4),('model', model)])\n",
    "#     pipes4.append(pipe4)\n",
    "#     run_experiment(x_train, x_test, y_train, y_test, pipe4)\n",
    "#     print(\"===============================\")"
   ]
  },
  {
   "cell_type": "code",
   "execution_count": 15,
   "metadata": {},
   "outputs": [
    {
     "ename": "NameError",
     "evalue": "name 'k' is not defined",
     "output_type": "error",
     "traceback": [
      "\u001b[1;31m---------------------------------------------------------------------------\u001b[0m",
      "\u001b[1;31mNameError\u001b[0m                                 Traceback (most recent call last)",
      "\u001b[1;32m~\\AppData\\Local\\Temp/ipykernel_15728/3760656076.py\u001b[0m in \u001b[0;36m<module>\u001b[1;34m\u001b[0m\n\u001b[1;32m----> 1\u001b[1;33m \u001b[0mk\u001b[0m\u001b[1;33m\u001b[0m\u001b[1;33m\u001b[0m\u001b[0m\n\u001b[0m",
      "\u001b[1;31mNameError\u001b[0m: name 'k' is not defined"
     ]
    }
   ],
   "source": [
    "k"
   ]
  },
  {
   "cell_type": "markdown",
   "metadata": {},
   "source": [
    "### Feature Selection"
   ]
  },
  {
   "cell_type": "code",
   "execution_count": null,
   "metadata": {},
   "outputs": [],
   "source": [
    "from sklearn.feature_selection import VarianceThreshold, SelectKBest, SelectPercentile, RFE\n",
    "\n",
    "new_pipes = []\n",
    "\n",
    "sel1 = VarianceThreshold\n",
    "sel2 = SelectKBest(k = 5)\n",
    "sel3 = SelectPercentile(percentile = .90)\n",
    "# sel4 = RFE()\n",
    "\n",
    "sels = [ sel2, sel3]\n",
    "sel_names = ['KBest', 'Percentile']\n",
    "i = 0 \n",
    "\n",
    "for model in sup_models:\n",
    "    model_name = sup_model_names[i]\n",
    "    print(\"Model: \", sup_model_names[i])\n",
    "    i += 1\n",
    "    j = 0\n",
    "    for sel in sels:\n",
    "        sel_name = sel_names[j]\n",
    "        j += 1\n",
    "        print('Feature Selection: ', sel_name)\n",
    "        k = 0\n",
    "        for pre in pres:\n",
    "            pre_name = pre_names[k]\n",
    "            print('Preprocessing Step: ', pre_name)\n",
    "            k += 1            \n",
    "            pipe = Pipeline([('Feature Selection', sel),('Pre Processing', pre),('Model', model)])\n",
    "            run_experiment(x_train, x_test, y_train, y_test, pipe)\n",
    "            new_pipes.append(pipe)\n",
    "            print(\"=============================================\")"
   ]
  },
  {
   "cell_type": "markdown",
   "metadata": {},
   "source": [
    "### Hyper-parameter Tuning"
   ]
  },
  {
   "cell_type": "markdown",
   "metadata": {},
   "source": [
    "### "
   ]
  }
 ],
 "metadata": {
  "interpreter": {
   "hash": "9daac9ed69900a4a309ec6040543edec71586376af7854d65a0f277dfb55f14b"
  },
  "kernelspec": {
   "display_name": "Python 3 (ipykernel)",
   "language": "python",
   "name": "python3"
  },
  "language_info": {
   "codemirror_mode": {
    "name": "ipython",
    "version": 3
   },
   "file_extension": ".py",
   "mimetype": "text/x-python",
   "name": "python",
   "nbconvert_exporter": "python",
   "pygments_lexer": "ipython3",
   "version": "3.9.5"
  }
 },
 "nbformat": 4,
 "nbformat_minor": 2
}
