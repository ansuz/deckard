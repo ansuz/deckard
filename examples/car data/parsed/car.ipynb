{
 "cells": [
  {
   "cell_type": "code",
   "execution_count": 1,
   "metadata": {},
   "outputs": [],
   "source": [
    "from deckard import Data, Model, Experiment\n",
    "from pandas import DataFrame, read_csv\n",
    "from pandas import to_datetime, Series\n",
    "gps = read_csv(\"./gps.txt\", sep=\"\\t\")\n",
    "lat = gps.pop('latitude')\n",
    "long = gps.pop('longitude')\n",
    "gyro = read_csv(\"./gyro.txt\", sep=\"\\t\")\n",
    "acc = read_csv(\"./imu.txt\", sep=\"\\t\")\n",
    "mag = read_csv(\"./mag.txt\", sep=\"\\t\")\n",
    "wifi = read_csv(\"./wifi.txt\", sep=\"\\t\")\n",
    "\n",
    "gyro.set_index(to_datetime(gyro['systime']))\n",
    "gyro.drop(['systime'], axis=1, inplace=True)\n",
    "acc.set_index(to_datetime(acc['systime']))\n",
    "acc.drop(['systime'], axis=1, inplace=True)\n",
    "mag.set_index(to_datetime(mag['systime']))\n",
    "mag.drop(['systime'], axis=1, inplace=True)\n",
    "wifi.set_index(to_datetime(wifi['systime']))\n",
    "wifi.drop(['systime'], axis=1, inplace=True)\n",
    "gps.set_index(to_datetime(gps['systime']))\n",
    "gps.drop(['systime'], axis=1, inplace=True)\n"
   ]
  },
  {
   "cell_type": "code",
   "execution_count": 2,
   "metadata": {},
   "outputs": [],
   "source": [
    "all = gps.merge(gyro, left_index=True, right_index=True)\n",
    "all = all.merge(acc, left_index=True, right_index=True)\n",
    "all = all.merge(mag, left_index=True, right_index=True)\n",
    "# all = all.merge(wifi, left_index=True, right_index=True)\n",
    "all.replace(to_replace='?', value=0, inplace=True)\n",
    "lat.replace(to_replace='?', value=0, inplace=True)\n",
    "long.replace(to_replace='?', value=0, inplace=True)"
   ]
  },
  {
   "cell_type": "code",
   "execution_count": 3,
   "metadata": {},
   "outputs": [],
   "source": [
    "# lat = [str(i).split('.')[-1] for i in lat]\n",
    "# long = [str(i).split('.')[-1] for i in long]\n",
    "\n",
    "all['lat'] = lat\n",
    "all.to_csv(\"./lat.csv\", index=False)\n",
    "all = all.dropna(axis = 0, how = 'any')\n",
    "del all['lat']\n",
    "all['long'] = long\n",
    "all.to_csv(\"./long.csv\", index=False)\n",
    "del all['long']"
   ]
  },
  {
   "cell_type": "code",
   "execution_count": 4,
   "metadata": {},
   "outputs": [
    {
     "name": "stderr",
     "output_type": "stream",
     "text": [
      "WARNING:root:CSV detected. Assuming last column is the target column.\n"
     ]
    },
    {
     "name": "stdout",
     "output_type": "stream",
     "text": [
      "{'MSE': 0.7563578777810759, 'MAE': 0.054241732005917864, 'R2': 0.940848042147635, 'fit_time': 10046875000, 'pred_time': 140625000, 'Name': 'lat.csv_490174316218499094672697865176085588667005764911', 'id_': '753b8d47f0b94ee1824d48b1d76b885e'}\n"
     ]
    }
   ],
   "source": [
    "from sklearn.ensemble import RandomForestRegressor\n",
    "\n",
    "data = Data('lat.csv')\n",
    "model = Model(RandomForestRegressor(n_estimators=1000))\n",
    "experiment = Experiment(data, model)\n",
    "experiment.run()\n",
    "print(experiment.scores)\n"
   ]
  },
  {
   "cell_type": "code",
   "execution_count": 5,
   "metadata": {},
   "outputs": [
    {
     "name": "stderr",
     "output_type": "stream",
     "text": [
      "WARNING:root:CSV detected. Assuming last column is the target column.\n"
     ]
    },
    {
     "name": "stdout",
     "output_type": "stream",
     "text": [
      "{'MSE': 0.030191669616515135, 'MAE': 0.010934722200154796, 'R2': 0.9459529120796145, 'fit_time': 10078125000, 'pred_time': 125000000, 'Name': 'long.csv_490174316218499094672697865176085588667005764911', 'id_': '313cab40c51d4e84acf439f5b578f760'}\n"
     ]
    }
   ],
   "source": [
    "from sklearn.ensemble import RandomForestRegressor\n",
    "\n",
    "data = Data('long.csv')\n",
    "model = Model(RandomForestRegressor(n_estimators=1000))\n",
    "experiment = Experiment(data, model)\n",
    "experiment.run()\n",
    "print(experiment.scores)\n"
   ]
  }
 ],
 "metadata": {
  "interpreter": {
   "hash": "9d29a9da3c32c26e633c34de13aa7d13395598c4d76073a63282f988ab7828cb"
  },
  "kernelspec": {
   "display_name": "Python 3.9.7 64-bit ('survey': conda)",
   "language": "python",
   "name": "python3"
  },
  "language_info": {
   "codemirror_mode": {
    "name": "ipython",
    "version": 3
   },
   "file_extension": ".py",
   "mimetype": "text/x-python",
   "name": "python",
   "nbconvert_exporter": "python",
   "pygments_lexer": "ipython3",
   "version": "3.9.7"
  },
  "orig_nbformat": 4
 },
 "nbformat": 4,
 "nbformat_minor": 2
}
